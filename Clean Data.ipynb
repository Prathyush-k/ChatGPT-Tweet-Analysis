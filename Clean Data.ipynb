{
 "cells": [
  {
   "cell_type": "code",
   "execution_count": 1,
   "id": "ef04268a",
   "metadata": {},
   "outputs": [],
   "source": [
    "import pandas as pd\n",
    "import datetime\n",
    "import numpy as np\n",
    "\n",
    "from collections import Counter\n",
    "\n",
    "import re\n",
    "from unidecode import unidecode\n",
    "from emoji import UNICODE_EMOJI, demojize, emojize\n",
    "\n",
    "import neattext.functions as ntf "
   ]
  },
  {
   "cell_type": "code",
   "execution_count": 2,
   "id": "1ea21186",
   "metadata": {
    "scrolled": true
   },
   "outputs": [
    {
     "data": {
      "text/html": [
       "<div>\n",
       "<style scoped>\n",
       "    .dataframe tbody tr th:only-of-type {\n",
       "        vertical-align: middle;\n",
       "    }\n",
       "\n",
       "    .dataframe tbody tr th {\n",
       "        vertical-align: top;\n",
       "    }\n",
       "\n",
       "    .dataframe thead th {\n",
       "        text-align: right;\n",
       "    }\n",
       "</style>\n",
       "<table border=\"1\" class=\"dataframe\">\n",
       "  <thead>\n",
       "    <tr style=\"text-align: right;\">\n",
       "      <th></th>\n",
       "      <th>date</th>\n",
       "      <th>id</th>\n",
       "      <th>content</th>\n",
       "      <th>username</th>\n",
       "      <th>like_count</th>\n",
       "      <th>retweet_count</th>\n",
       "    </tr>\n",
       "  </thead>\n",
       "  <tbody>\n",
       "    <tr>\n",
       "      <th>0</th>\n",
       "      <td>2023-03-29 22:58:21+00:00</td>\n",
       "      <td>1641213230730051584</td>\n",
       "      <td>Free AI marketing and automation tools, strate...</td>\n",
       "      <td>RealProfitPros</td>\n",
       "      <td>0.0</td>\n",
       "      <td>0.0</td>\n",
       "    </tr>\n",
       "    <tr>\n",
       "      <th>1</th>\n",
       "      <td>2023-03-29 22:58:18+00:00</td>\n",
       "      <td>1641213218520481805</td>\n",
       "      <td>@MecoleHardman4 Chat GPT says it’s 15. 😂</td>\n",
       "      <td>AmyLouWho321</td>\n",
       "      <td>0.0</td>\n",
       "      <td>0.0</td>\n",
       "    </tr>\n",
       "    <tr>\n",
       "      <th>2</th>\n",
       "      <td>2023-03-29 22:57:53+00:00</td>\n",
       "      <td>1641213115684536323</td>\n",
       "      <td>https://t.co/FjJSprt0te - Chat with any PDF!\\n...</td>\n",
       "      <td>yjleon1976</td>\n",
       "      <td>0.0</td>\n",
       "      <td>0.0</td>\n",
       "    </tr>\n",
       "    <tr>\n",
       "      <th>3</th>\n",
       "      <td>2023-03-29 22:57:52+00:00</td>\n",
       "      <td>1641213110915571715</td>\n",
       "      <td>AI muses: \"In the court of life, we must all f...</td>\n",
       "      <td>ChatGPT_Thinks</td>\n",
       "      <td>0.0</td>\n",
       "      <td>0.0</td>\n",
       "    </tr>\n",
       "    <tr>\n",
       "      <th>4</th>\n",
       "      <td>2023-03-29 22:57:26+00:00</td>\n",
       "      <td>1641213003260633088</td>\n",
       "      <td>Most people haven't heard of Chat GPT yet.\\nFi...</td>\n",
       "      <td>nikocosmonaut</td>\n",
       "      <td>0.0</td>\n",
       "      <td>0.0</td>\n",
       "    </tr>\n",
       "  </tbody>\n",
       "</table>\n",
       "</div>"
      ],
      "text/plain": [
       "                        date                   id  \\\n",
       "0  2023-03-29 22:58:21+00:00  1641213230730051584   \n",
       "1  2023-03-29 22:58:18+00:00  1641213218520481805   \n",
       "2  2023-03-29 22:57:53+00:00  1641213115684536323   \n",
       "3  2023-03-29 22:57:52+00:00  1641213110915571715   \n",
       "4  2023-03-29 22:57:26+00:00  1641213003260633088   \n",
       "\n",
       "                                             content        username  \\\n",
       "0  Free AI marketing and automation tools, strate...  RealProfitPros   \n",
       "1           @MecoleHardman4 Chat GPT says it’s 15. 😂    AmyLouWho321   \n",
       "2  https://t.co/FjJSprt0te - Chat with any PDF!\\n...      yjleon1976   \n",
       "3  AI muses: \"In the court of life, we must all f...  ChatGPT_Thinks   \n",
       "4  Most people haven't heard of Chat GPT yet.\\nFi...   nikocosmonaut   \n",
       "\n",
       "   like_count  retweet_count  \n",
       "0         0.0            0.0  \n",
       "1         0.0            0.0  \n",
       "2         0.0            0.0  \n",
       "3         0.0            0.0  \n",
       "4         0.0            0.0  "
      ]
     },
     "execution_count": 2,
     "metadata": {},
     "output_type": "execute_result"
    }
   ],
   "source": [
    "## read the datafile\n",
    "tweet_df = pd.read_csv('Data/Kaggle/Twitter Jan Mar.csv')\n",
    "tweet_df.head()"
   ]
  },
  {
   "cell_type": "code",
   "execution_count": 3,
   "id": "7f0e5171",
   "metadata": {
    "colab": {
     "base_uri": "https://localhost:8080/"
    },
    "id": "IsRD9CPWLTWU",
    "outputId": "d29622c1-26bf-4185-94ee-490fbd29dbd9"
   },
   "outputs": [
    {
     "data": {
      "text/html": [
       "<div>\n",
       "<style scoped>\n",
       "    .dataframe tbody tr th:only-of-type {\n",
       "        vertical-align: middle;\n",
       "    }\n",
       "\n",
       "    .dataframe tbody tr th {\n",
       "        vertical-align: top;\n",
       "    }\n",
       "\n",
       "    .dataframe thead th {\n",
       "        text-align: right;\n",
       "    }\n",
       "</style>\n",
       "<table border=\"1\" class=\"dataframe\">\n",
       "  <thead>\n",
       "    <tr style=\"text-align: right;\">\n",
       "      <th></th>\n",
       "      <th>like_count</th>\n",
       "      <th>retweet_count</th>\n",
       "    </tr>\n",
       "  </thead>\n",
       "  <tbody>\n",
       "    <tr>\n",
       "      <th>count</th>\n",
       "      <td>499974.000000</td>\n",
       "      <td>499974.000000</td>\n",
       "    </tr>\n",
       "    <tr>\n",
       "      <th>mean</th>\n",
       "      <td>7.123208</td>\n",
       "      <td>1.481523</td>\n",
       "    </tr>\n",
       "    <tr>\n",
       "      <th>std</th>\n",
       "      <td>216.366469</td>\n",
       "      <td>46.254101</td>\n",
       "    </tr>\n",
       "    <tr>\n",
       "      <th>min</th>\n",
       "      <td>0.000000</td>\n",
       "      <td>0.000000</td>\n",
       "    </tr>\n",
       "    <tr>\n",
       "      <th>25%</th>\n",
       "      <td>0.000000</td>\n",
       "      <td>0.000000</td>\n",
       "    </tr>\n",
       "    <tr>\n",
       "      <th>50%</th>\n",
       "      <td>1.000000</td>\n",
       "      <td>0.000000</td>\n",
       "    </tr>\n",
       "    <tr>\n",
       "      <th>75%</th>\n",
       "      <td>2.000000</td>\n",
       "      <td>0.000000</td>\n",
       "    </tr>\n",
       "    <tr>\n",
       "      <th>max</th>\n",
       "      <td>64094.000000</td>\n",
       "      <td>16080.000000</td>\n",
       "    </tr>\n",
       "  </tbody>\n",
       "</table>\n",
       "</div>"
      ],
      "text/plain": [
       "          like_count  retweet_count\n",
       "count  499974.000000  499974.000000\n",
       "mean        7.123208       1.481523\n",
       "std       216.366469      46.254101\n",
       "min         0.000000       0.000000\n",
       "25%         0.000000       0.000000\n",
       "50%         1.000000       0.000000\n",
       "75%         2.000000       0.000000\n",
       "max     64094.000000   16080.000000"
      ]
     },
     "execution_count": 3,
     "metadata": {},
     "output_type": "execute_result"
    }
   ],
   "source": [
    "# Descriptive statistics\n",
    "tweet_df.describe()"
   ]
  },
  {
   "cell_type": "code",
   "execution_count": 4,
   "id": "fd7a37b1",
   "metadata": {
    "colab": {
     "base_uri": "https://localhost:8080/"
    },
    "id": "3obThEF3GdL8",
    "outputId": "f56a64ad-010d-4991-e4fc-c4dcb2b00437"
   },
   "outputs": [
    {
     "name": "stdout",
     "output_type": "stream",
     "text": [
      "date : 475394\n",
      "id : 500007\n",
      "content : 493744\n",
      "username : 250006\n",
      "like_count : 1066\n",
      "retweet_count : 489\n"
     ]
    }
   ],
   "source": [
    "# Checking the number of unique values in each column\n",
    "for col in tweet_df.columns:\n",
    "    print(col, \":\", tweet_df[col].nunique())"
   ]
  },
  {
   "cell_type": "code",
   "execution_count": 5,
   "id": "5d58f555",
   "metadata": {
    "colab": {
     "base_uri": "https://localhost:8080/"
    },
    "id": "Nv7QfJaAndR1",
    "outputId": "c721947b-ac0e-427f-c156-df9d0a31f434"
   },
   "outputs": [
    {
     "name": "stdout",
     "output_type": "stream",
     "text": [
      "Average Tweet length is: 142.63451831468134\n"
     ]
    }
   ],
   "source": [
    "#Average tweet length\n",
    "count = 0\n",
    "for i in tweet_df['content']:\n",
    "    count += len(''.join(str(i).split()))\n",
    "\n",
    "avg_tweet_length = count / len(tweet_df['content'])\n",
    "\n",
    "print(\"Average Tweet length is:\", avg_tweet_length)"
   ]
  },
  {
   "cell_type": "markdown",
   "id": "9e452331",
   "metadata": {
    "id": "0Z7bpqtNMgjG"
   },
   "source": [
    "## **Data Preprocessing**"
   ]
  },
  {
   "cell_type": "code",
   "execution_count": 6,
   "id": "1c3bcaa5",
   "metadata": {
    "colab": {
     "base_uri": "https://localhost:8080/"
    },
    "id": "YM1jU3n7Hh5A",
    "outputId": "c9350291-4952-487e-c3d6-07c48dbd9b84"
   },
   "outputs": [
    {
     "data": {
      "text/plain": [
       "date              0\n",
       "id                6\n",
       "content           6\n",
       "username         34\n",
       "like_count       62\n",
       "retweet_count    62\n",
       "dtype: int64"
      ]
     },
     "execution_count": 6,
     "metadata": {},
     "output_type": "execute_result"
    }
   ],
   "source": [
    "# check for missing values\n",
    "tweet_df.isnull().sum()"
   ]
  },
  {
   "cell_type": "code",
   "execution_count": 7,
   "id": "ffda1670",
   "metadata": {
    "colab": {
     "base_uri": "https://localhost:8080/"
    },
    "id": "OsFWOvNUMetI",
    "outputId": "cdc0c1e1-7c2d-40ca-96eb-c76b4f6dbe3e"
   },
   "outputs": [
    {
     "name": "stdout",
     "output_type": "stream",
     "text": [
      "length:  500036\n",
      "Length:  499974\n"
     ]
    }
   ],
   "source": [
    "# Remove missing values\n",
    "print(\"length: \", len(tweet_df))\n",
    "tweet_df = tweet_df.dropna()\n",
    "print(\"Length: \",len(tweet_df))"
   ]
  },
  {
   "cell_type": "code",
   "execution_count": 8,
   "id": "dd0b9146",
   "metadata": {
    "id": "mNquOQJGRE3p",
    "scrolled": true
   },
   "outputs": [],
   "source": [
    "# Extract Date from date column\n",
    "tweet_df['date'] = pd.to_datetime(tweet_df['date'])\n",
    "\n",
    "tweet_df['date'] = tweet_df['date'].dt.date\n",
    "\n",
    "tweet_df['date'] = pd.to_datetime(tweet_df['date'])"
   ]
  },
  {
   "cell_type": "code",
   "execution_count": 9,
   "id": "ed4d752c",
   "metadata": {
    "colab": {
     "base_uri": "https://localhost:8080/"
    },
    "id": "8iUghWu4LTQm",
    "outputId": "006d891d-debf-41e4-a9e5-4fb7d472d95d"
   },
   "outputs": [
    {
     "name": "stdout",
     "output_type": "stream",
     "text": [
      "Start Date:  2023-01-04 00:00:00\n",
      "End Date:  2023-03-29 00:00:00\n",
      "Duration of Dataset:  84 days\n"
     ]
    }
   ],
   "source": [
    "# Checking range of dates\n",
    "print(\"Start Date: \" ,tweet_df['date'].min())\n",
    "print(\"End Date: \" ,tweet_df['date'].max())\n",
    "\n",
    "print(\"Duration of Dataset: \", (tweet_df['date'].max()- tweet_df['date'].min()).days, 'days')"
   ]
  },
  {
   "cell_type": "code",
   "execution_count": 10,
   "id": "61dcf9c1",
   "metadata": {
    "colab": {
     "base_uri": "https://localhost:8080/"
    },
    "id": "9SNkbeFAIcQ-",
    "outputId": "b6686077-4a27-4e63-a47a-4194f218ecf0"
   },
   "outputs": [
    {
     "name": "stdout",
     "output_type": "stream",
     "text": [
      "date : 85\n",
      "id : 499974\n",
      "content : 493705\n",
      "username : 249998\n",
      "like_count : 1066\n",
      "retweet_count : 489\n"
     ]
    }
   ],
   "source": [
    "# Checking the number of unique values in each column\n",
    "for col in tweet_df.columns:\n",
    "    print(col, \":\", tweet_df[col].nunique())"
   ]
  },
  {
   "cell_type": "code",
   "execution_count": 11,
   "id": "65ab6c7d",
   "metadata": {
    "colab": {
     "base_uri": "https://localhost:8080/",
     "height": 232
    },
    "id": "WWHPXTd5R4Ts",
    "outputId": "a6e52fe3-e64f-4bb5-8fdd-c0b07897b8a3",
    "scrolled": true
   },
   "outputs": [
    {
     "data": {
      "text/html": [
       "<div>\n",
       "<style scoped>\n",
       "    .dataframe tbody tr th:only-of-type {\n",
       "        vertical-align: middle;\n",
       "    }\n",
       "\n",
       "    .dataframe tbody tr th {\n",
       "        vertical-align: top;\n",
       "    }\n",
       "\n",
       "    .dataframe thead th {\n",
       "        text-align: right;\n",
       "    }\n",
       "</style>\n",
       "<table border=\"1\" class=\"dataframe\">\n",
       "  <thead>\n",
       "    <tr style=\"text-align: right;\">\n",
       "      <th></th>\n",
       "      <th>date</th>\n",
       "      <th>id</th>\n",
       "      <th>content</th>\n",
       "      <th>username</th>\n",
       "      <th>like_count</th>\n",
       "      <th>retweet_count</th>\n",
       "    </tr>\n",
       "  </thead>\n",
       "  <tbody>\n",
       "    <tr>\n",
       "      <th>0</th>\n",
       "      <td>2023-03-29</td>\n",
       "      <td>1641213230730051584</td>\n",
       "      <td>Free AI marketing and automation tools, strate...</td>\n",
       "      <td>RealProfitPros</td>\n",
       "      <td>0.0</td>\n",
       "      <td>0.0</td>\n",
       "    </tr>\n",
       "    <tr>\n",
       "      <th>1</th>\n",
       "      <td>2023-03-29</td>\n",
       "      <td>1641213218520481805</td>\n",
       "      <td>@MecoleHardman4 Chat GPT says it’s 15. 😂</td>\n",
       "      <td>AmyLouWho321</td>\n",
       "      <td>0.0</td>\n",
       "      <td>0.0</td>\n",
       "    </tr>\n",
       "    <tr>\n",
       "      <th>2</th>\n",
       "      <td>2023-03-29</td>\n",
       "      <td>1641213115684536323</td>\n",
       "      <td>https://t.co/FjJSprt0te - Chat with any PDF!\\n...</td>\n",
       "      <td>yjleon1976</td>\n",
       "      <td>0.0</td>\n",
       "      <td>0.0</td>\n",
       "    </tr>\n",
       "    <tr>\n",
       "      <th>3</th>\n",
       "      <td>2023-03-29</td>\n",
       "      <td>1641213110915571715</td>\n",
       "      <td>AI muses: \"In the court of life, we must all f...</td>\n",
       "      <td>ChatGPT_Thinks</td>\n",
       "      <td>0.0</td>\n",
       "      <td>0.0</td>\n",
       "    </tr>\n",
       "    <tr>\n",
       "      <th>4</th>\n",
       "      <td>2023-03-29</td>\n",
       "      <td>1641213003260633088</td>\n",
       "      <td>Most people haven't heard of Chat GPT yet.\\nFi...</td>\n",
       "      <td>nikocosmonaut</td>\n",
       "      <td>0.0</td>\n",
       "      <td>0.0</td>\n",
       "    </tr>\n",
       "  </tbody>\n",
       "</table>\n",
       "</div>"
      ],
      "text/plain": [
       "        date                   id  \\\n",
       "0 2023-03-29  1641213230730051584   \n",
       "1 2023-03-29  1641213218520481805   \n",
       "2 2023-03-29  1641213115684536323   \n",
       "3 2023-03-29  1641213110915571715   \n",
       "4 2023-03-29  1641213003260633088   \n",
       "\n",
       "                                             content        username  \\\n",
       "0  Free AI marketing and automation tools, strate...  RealProfitPros   \n",
       "1           @MecoleHardman4 Chat GPT says it’s 15. 😂    AmyLouWho321   \n",
       "2  https://t.co/FjJSprt0te - Chat with any PDF!\\n...      yjleon1976   \n",
       "3  AI muses: \"In the court of life, we must all f...  ChatGPT_Thinks   \n",
       "4  Most people haven't heard of Chat GPT yet.\\nFi...   nikocosmonaut   \n",
       "\n",
       "   like_count  retweet_count  \n",
       "0         0.0            0.0  \n",
       "1         0.0            0.0  \n",
       "2         0.0            0.0  \n",
       "3         0.0            0.0  \n",
       "4         0.0            0.0  "
      ]
     },
     "execution_count": 11,
     "metadata": {},
     "output_type": "execute_result"
    }
   ],
   "source": [
    "tweet_df.head()"
   ]
  },
  {
   "cell_type": "code",
   "execution_count": 12,
   "id": "995ba1e2",
   "metadata": {
    "id": "oIlHbV34Q587"
   },
   "outputs": [],
   "source": [
    "# One preprocessing function to rule them all(almost!)\n",
    "def pre_process(text):\n",
    "\n",
    "    text = re.sub('&amp', 'and', text)\n",
    "    text = re.sub('&lt', '<', text)\n",
    "    text = re.sub('&gt', '>', text)\n",
    "\n",
    "    # Remove new line characters\n",
    "    text = re.sub('[\\r\\n]+', ' ', text)\n",
    "\n",
    "    text = re.sub(r'@\\w+', '', text)\n",
    "    #text = re.sub(r'#\\w+', '', text)\n",
    "    #text = re.sub(r'@\\w+', lambda x: re.sub(r'[^a-zA-Z0-9\\s]', '', x.group(0)), text) #Keeps the character trailing @\n",
    "    text = re.sub(r'#\\w+', lambda x: re.sub(r'[^a-zA-Z0-9\\s]', '', x.group(0)), text) #Keeps the character trailing #\n",
    "\n",
    "    # Remove multiple space characters\n",
    "    text = re.sub('\\s+',' ', text)\n",
    "    \n",
    "    \n",
    "    # remove first or last character space\n",
    "    if len(text)>0:\n",
    "        if text[0] == ' ':\n",
    "            text = text[1:]\n",
    "        \n",
    "    if len(text)>0:    \n",
    "        if text[-1] == ' ':\n",
    "            text = text[:-1]\n",
    "    \n",
    "    # Convert to lowercase\n",
    "    text = text.lower()\n",
    "    return text"
   ]
  },
  {
   "cell_type": "code",
   "execution_count": 13,
   "id": "108ece2a",
   "metadata": {
    "id": "ivWe6mgZRFgc",
    "scrolled": true
   },
   "outputs": [],
   "source": [
    "# removing stop words, emails and links\n",
    "tweet_df['processed_content'] = tweet_df['content'].apply(ntf.remove_stopwords)\n",
    "tweet_df['processed_content'] = tweet_df['processed_content'].apply(ntf.remove_emails)\n",
    "tweet_df['processed_content'] = tweet_df['processed_content'].apply(ntf.remove_urls)\n",
    "\n",
    "# normalize and deemojize\n",
    "tweet_df['processed_content'] = tweet_df['processed_content'].apply(demojize)\n",
    "tweet_df['processed_content'] = tweet_df['processed_content'].apply(unidecode)\n",
    "\n",
    "# preprocessing\n",
    "tweet_df['processed_content'] = tweet_df['processed_content'].apply(pre_process)\n"
   ]
  },
  {
   "cell_type": "code",
   "execution_count": 14,
   "id": "279eb70d",
   "metadata": {
    "colab": {
     "base_uri": "https://localhost:8080/"
    },
    "id": "OuZXGlLURDRc",
    "outputId": "23b43934-5249-42a1-af3a-3f9c42d5ee24"
   },
   "outputs": [
    {
     "name": "stdout",
     "output_type": "stream",
     "text": [
      "date : 85\n",
      "id : 499974\n",
      "content : 493705\n",
      "username : 249998\n",
      "like_count : 1066\n",
      "retweet_count : 489\n",
      "processed_content : 459701\n"
     ]
    }
   ],
   "source": [
    "# Checking the number of unique values in each column\n",
    "for col in tweet_df.columns:\n",
    "    print(col, \":\", tweet_df[col].nunique())"
   ]
  },
  {
   "cell_type": "markdown",
   "id": "7e3fbfd8",
   "metadata": {
    "id": "jXvFAzMNaDVQ"
   },
   "source": [
    "### **Preprocessing 1.2:**\n",
    "\n",
    "Removing Duplicates, Spam, Redundency\n",
    "\n"
   ]
  },
  {
   "cell_type": "code",
   "execution_count": 15,
   "id": "8a758f0b",
   "metadata": {
    "colab": {
     "base_uri": "https://localhost:8080/"
    },
    "id": "nyDGq9XcOQ_J",
    "outputId": "391e518b-e2c5-4d40-e7ea-95e370c770ab",
    "scrolled": true
   },
   "outputs": [
    {
     "name": "stdout",
     "output_type": "stream",
     "text": [
      "Top 5 most frequent tweets in 'content':\n",
      "Chat GPT                126\n",
      "@themattmic Chat GPT    121\n",
      "@Timtwttt Chat GPT       84\n",
      "te amo chat gpt          74\n",
      "Chat gpt                 63\n",
      "Name: content, dtype: int64\n"
     ]
    }
   ],
   "source": [
    "# Value counts for the 'content' column\n",
    "content_counts = tweet_df['content'].value_counts()\n",
    "print(\"Top 5 most frequent tweets in 'content':\")\n",
    "print(content_counts.head(5))"
   ]
  },
  {
   "cell_type": "code",
   "execution_count": 16,
   "id": "3e58818c",
   "metadata": {},
   "outputs": [
    {
     "name": "stdout",
     "output_type": "stream",
     "text": [
      "Top 5 most frequent tweets in 'preprocessed_content':\n",
      "chat gpt                                                                 4014\n",
      "midjourney openai gpt stablediffusion2 dalle chatgpt join: imagine ''     645\n",
      "chat gpt?                                                                 582\n",
      "ask chat gpt                                                              333\n",
      "use chat gpt                                                              220\n",
      "Name: processed_content, dtype: int64\n"
     ]
    }
   ],
   "source": [
    "# Value counts for the 'preprocessed_content' column\n",
    "preprocessed_content_counts = tweet_df['processed_content'].value_counts()\n",
    "print(\"Top 5 most frequent tweets in 'preprocessed_content':\")\n",
    "print(preprocessed_content_counts.head(5))\n"
   ]
  },
  {
   "cell_type": "code",
   "execution_count": 17,
   "id": "65271656",
   "metadata": {
    "colab": {
     "base_uri": "https://localhost:8080/",
     "height": 444
    },
    "id": "ahmDAnT1b0Eq",
    "outputId": "57526493-45fa-4105-b180-284302f01f59"
   },
   "outputs": [
    {
     "data": {
      "text/html": [
       "<div>\n",
       "<style scoped>\n",
       "    .dataframe tbody tr th:only-of-type {\n",
       "        vertical-align: middle;\n",
       "    }\n",
       "\n",
       "    .dataframe tbody tr th {\n",
       "        vertical-align: top;\n",
       "    }\n",
       "\n",
       "    .dataframe thead th {\n",
       "        text-align: right;\n",
       "    }\n",
       "</style>\n",
       "<table border=\"1\" class=\"dataframe\">\n",
       "  <thead>\n",
       "    <tr style=\"text-align: right;\">\n",
       "      <th></th>\n",
       "      <th>date</th>\n",
       "      <th>id</th>\n",
       "      <th>content</th>\n",
       "      <th>username</th>\n",
       "      <th>like_count</th>\n",
       "      <th>retweet_count</th>\n",
       "      <th>processed_content</th>\n",
       "    </tr>\n",
       "  </thead>\n",
       "  <tbody>\n",
       "    <tr>\n",
       "      <th>0</th>\n",
       "      <td>2023-03-29</td>\n",
       "      <td>1641213230730051584</td>\n",
       "      <td>Free AI marketing and automation tools, strate...</td>\n",
       "      <td>RealProfitPros</td>\n",
       "      <td>0.0</td>\n",
       "      <td>0.0</td>\n",
       "      <td>free ai marketing automation tools, strategies...</td>\n",
       "    </tr>\n",
       "    <tr>\n",
       "      <th>1</th>\n",
       "      <td>2023-03-29</td>\n",
       "      <td>1641213218520481805</td>\n",
       "      <td>@MecoleHardman4 Chat GPT says it’s 15. 😂</td>\n",
       "      <td>AmyLouWho321</td>\n",
       "      <td>0.0</td>\n",
       "      <td>0.0</td>\n",
       "      <td>chat gpt says it's 15. :face_with_tears_of_joy:</td>\n",
       "    </tr>\n",
       "    <tr>\n",
       "      <th>2</th>\n",
       "      <td>2023-03-29</td>\n",
       "      <td>1641213115684536323</td>\n",
       "      <td>https://t.co/FjJSprt0te - Chat with any PDF!\\n...</td>\n",
       "      <td>yjleon1976</td>\n",
       "      <td>0.0</td>\n",
       "      <td>0.0</td>\n",
       "      <td>- chat pdf! check new ai quickly answers quest...</td>\n",
       "    </tr>\n",
       "    <tr>\n",
       "      <th>3</th>\n",
       "      <td>2023-03-29</td>\n",
       "      <td>1641213110915571715</td>\n",
       "      <td>AI muses: \"In the court of life, we must all f...</td>\n",
       "      <td>ChatGPT_Thinks</td>\n",
       "      <td>0.0</td>\n",
       "      <td>0.0</td>\n",
       "      <td>ai muses: \"in court life, face judge destiny j...</td>\n",
       "    </tr>\n",
       "    <tr>\n",
       "      <th>4</th>\n",
       "      <td>2023-03-29</td>\n",
       "      <td>1641213003260633088</td>\n",
       "      <td>Most people haven't heard of Chat GPT yet.\\nFi...</td>\n",
       "      <td>nikocosmonaut</td>\n",
       "      <td>0.0</td>\n",
       "      <td>0.0</td>\n",
       "      <td>people heard chat gpt yet. first, elite factio...</td>\n",
       "    </tr>\n",
       "  </tbody>\n",
       "</table>\n",
       "</div>"
      ],
      "text/plain": [
       "        date                   id  \\\n",
       "0 2023-03-29  1641213230730051584   \n",
       "1 2023-03-29  1641213218520481805   \n",
       "2 2023-03-29  1641213115684536323   \n",
       "3 2023-03-29  1641213110915571715   \n",
       "4 2023-03-29  1641213003260633088   \n",
       "\n",
       "                                             content        username  \\\n",
       "0  Free AI marketing and automation tools, strate...  RealProfitPros   \n",
       "1           @MecoleHardman4 Chat GPT says it’s 15. 😂    AmyLouWho321   \n",
       "2  https://t.co/FjJSprt0te - Chat with any PDF!\\n...      yjleon1976   \n",
       "3  AI muses: \"In the court of life, we must all f...  ChatGPT_Thinks   \n",
       "4  Most people haven't heard of Chat GPT yet.\\nFi...   nikocosmonaut   \n",
       "\n",
       "   like_count  retweet_count  \\\n",
       "0         0.0            0.0   \n",
       "1         0.0            0.0   \n",
       "2         0.0            0.0   \n",
       "3         0.0            0.0   \n",
       "4         0.0            0.0   \n",
       "\n",
       "                                   processed_content  \n",
       "0  free ai marketing automation tools, strategies...  \n",
       "1    chat gpt says it's 15. :face_with_tears_of_joy:  \n",
       "2  - chat pdf! check new ai quickly answers quest...  \n",
       "3  ai muses: \"in court life, face judge destiny j...  \n",
       "4  people heard chat gpt yet. first, elite factio...  "
      ]
     },
     "execution_count": 17,
     "metadata": {},
     "output_type": "execute_result"
    }
   ],
   "source": [
    "tweet_df.head()"
   ]
  },
  {
   "cell_type": "code",
   "execution_count": 18,
   "id": "102b517b",
   "metadata": {},
   "outputs": [
    {
     "data": {
      "text/plain": [
       "\"chat gpt says it's 15. :face_with_tears_of_joy:\""
      ]
     },
     "execution_count": 18,
     "metadata": {},
     "output_type": "execute_result"
    }
   ],
   "source": [
    "tweet_df['processed_content'][1]"
   ]
  },
  {
   "cell_type": "code",
   "execution_count": 19,
   "id": "dd11d722",
   "metadata": {
    "id": "A202-xWClVVv"
   },
   "outputs": [],
   "source": [
    "# Only keep the tweet with the highest engagement - REMOVING redundant data\n",
    "df_sorted = tweet_df.sort_values(by='like_count', ascending=False)\n",
    "df_cleaned = df_sorted.drop_duplicates(subset='processed_content', keep='first')\n",
    "\n",
    "tweet_df = df_cleaned.sort_index()"
   ]
  },
  {
   "cell_type": "code",
   "execution_count": 20,
   "id": "51ddef37",
   "metadata": {
    "colab": {
     "base_uri": "https://localhost:8080/"
    },
    "id": "sDeFq0bPoQNC",
    "outputId": "2b78651b-5c1f-4bc5-fe7e-670f891c7875"
   },
   "outputs": [
    {
     "name": "stdout",
     "output_type": "stream",
     "text": [
      "Length of Dataframe:  459701\n"
     ]
    }
   ],
   "source": [
    "print(\"Length of Dataframe: \",len(tweet_df))"
   ]
  },
  {
   "cell_type": "code",
   "execution_count": 21,
   "id": "46cd2f74",
   "metadata": {},
   "outputs": [
    {
     "data": {
      "text/html": [
       "<div>\n",
       "<style scoped>\n",
       "    .dataframe tbody tr th:only-of-type {\n",
       "        vertical-align: middle;\n",
       "    }\n",
       "\n",
       "    .dataframe tbody tr th {\n",
       "        vertical-align: top;\n",
       "    }\n",
       "\n",
       "    .dataframe thead th {\n",
       "        text-align: right;\n",
       "    }\n",
       "</style>\n",
       "<table border=\"1\" class=\"dataframe\">\n",
       "  <thead>\n",
       "    <tr style=\"text-align: right;\">\n",
       "      <th></th>\n",
       "      <th>date</th>\n",
       "      <th>username</th>\n",
       "      <th>like_count</th>\n",
       "      <th>retweet_count</th>\n",
       "      <th>processed_content</th>\n",
       "    </tr>\n",
       "  </thead>\n",
       "  <tbody>\n",
       "    <tr>\n",
       "      <th>0</th>\n",
       "      <td>2023-03-29</td>\n",
       "      <td>RealProfitPros</td>\n",
       "      <td>0.0</td>\n",
       "      <td>0.0</td>\n",
       "      <td>free ai marketing automation tools, strategies...</td>\n",
       "    </tr>\n",
       "    <tr>\n",
       "      <th>1</th>\n",
       "      <td>2023-03-29</td>\n",
       "      <td>AmyLouWho321</td>\n",
       "      <td>0.0</td>\n",
       "      <td>0.0</td>\n",
       "      <td>chat gpt says it's 15. :face_with_tears_of_joy:</td>\n",
       "    </tr>\n",
       "    <tr>\n",
       "      <th>2</th>\n",
       "      <td>2023-03-29</td>\n",
       "      <td>yjleon1976</td>\n",
       "      <td>0.0</td>\n",
       "      <td>0.0</td>\n",
       "      <td>- chat pdf! check new ai quickly answers quest...</td>\n",
       "    </tr>\n",
       "    <tr>\n",
       "      <th>3</th>\n",
       "      <td>2023-03-29</td>\n",
       "      <td>ChatGPT_Thinks</td>\n",
       "      <td>0.0</td>\n",
       "      <td>0.0</td>\n",
       "      <td>ai muses: \"in court life, face judge destiny j...</td>\n",
       "    </tr>\n",
       "    <tr>\n",
       "      <th>5</th>\n",
       "      <td>2023-03-29</td>\n",
       "      <td>cordydbarb</td>\n",
       "      <td>0.0</td>\n",
       "      <td>0.0</td>\n",
       "      <td>no! chat gpt putting amazing recipes :tired_fa...</td>\n",
       "    </tr>\n",
       "  </tbody>\n",
       "</table>\n",
       "</div>"
      ],
      "text/plain": [
       "        date        username  like_count  retweet_count  \\\n",
       "0 2023-03-29  RealProfitPros         0.0            0.0   \n",
       "1 2023-03-29    AmyLouWho321         0.0            0.0   \n",
       "2 2023-03-29      yjleon1976         0.0            0.0   \n",
       "3 2023-03-29  ChatGPT_Thinks         0.0            0.0   \n",
       "5 2023-03-29      cordydbarb         0.0            0.0   \n",
       "\n",
       "                                   processed_content  \n",
       "0  free ai marketing automation tools, strategies...  \n",
       "1    chat gpt says it's 15. :face_with_tears_of_joy:  \n",
       "2  - chat pdf! check new ai quickly answers quest...  \n",
       "3  ai muses: \"in court life, face judge destiny j...  \n",
       "5  no! chat gpt putting amazing recipes :tired_fa...  "
      ]
     },
     "execution_count": 21,
     "metadata": {},
     "output_type": "execute_result"
    }
   ],
   "source": [
    "tweet_df = tweet_df[['date', 'username', 'like_count','retweet_count','processed_content']]\n",
    "tweet_df.head()"
   ]
  },
  {
   "cell_type": "markdown",
   "id": "ab95e330",
   "metadata": {
    "id": "YCA4WRFT66ce"
   },
   "source": [
    "This makes the length of our dataframe **459701 from nearly 500k**. A lot of redundency and repeated content. Remember there are always pros and cons of these steps but here pros outweight the cons for our analysis"
   ]
  },
  {
   "cell_type": "code",
   "execution_count": 22,
   "id": "9f865274",
   "metadata": {},
   "outputs": [],
   "source": [
    "tweet_df.to_csv('Data/cleaded_data.csv', index= None)"
   ]
  },
  {
   "cell_type": "code",
   "execution_count": null,
   "id": "7c62045f",
   "metadata": {},
   "outputs": [],
   "source": [
    "tweet_df.head"
   ]
  }
 ],
 "metadata": {
  "kernelspec": {
   "display_name": "Python 3 (ipykernel)",
   "language": "python",
   "name": "python3"
  },
  "language_info": {
   "codemirror_mode": {
    "name": "ipython",
    "version": 3
   },
   "file_extension": ".py",
   "mimetype": "text/x-python",
   "name": "python",
   "nbconvert_exporter": "python",
   "pygments_lexer": "ipython3",
   "version": "3.9.12"
  }
 },
 "nbformat": 4,
 "nbformat_minor": 5
}
