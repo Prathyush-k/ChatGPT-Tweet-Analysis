{
 "cells": [
  {
   "cell_type": "code",
   "execution_count": 1,
   "id": "ce98b5e3",
   "metadata": {},
   "outputs": [],
   "source": [
    "import numpy as np\n",
    "import pandas as pd\n",
    "\n",
    "import matplotlib.pyplot as plt\n",
    "import seaborn as sns\n",
    "\n",
    "import neattext.functions as ntf\n",
    "import nltk\n",
    "from nltk.stem.wordnet import WordNetLemmatizer\n",
    "from nltk.corpus import stopwords\n",
    "\n",
    "from transformers import AutoModelForSequenceClassification\n",
    "from transformers import TFAutoModelForSequenceClassification\n",
    "from transformers import AutoTokenizer\n",
    "from scipy.special import softmax\n",
    "import csv\n",
    "import urllib.request\n",
    "\n",
    "import warnings\n",
    "warnings.filterwarnings(\"ignore\")"
   ]
  },
  {
   "cell_type": "code",
   "execution_count": null,
   "id": "511498b0",
   "metadata": {},
   "outputs": [],
   "source": []
  },
  {
   "cell_type": "code",
   "execution_count": 2,
   "id": "cae1eeb6",
   "metadata": {},
   "outputs": [
    {
     "data": {
      "text/html": [
       "<div>\n",
       "<style scoped>\n",
       "    .dataframe tbody tr th:only-of-type {\n",
       "        vertical-align: middle;\n",
       "    }\n",
       "\n",
       "    .dataframe tbody tr th {\n",
       "        vertical-align: top;\n",
       "    }\n",
       "\n",
       "    .dataframe thead th {\n",
       "        text-align: right;\n",
       "    }\n",
       "</style>\n",
       "<table border=\"1\" class=\"dataframe\">\n",
       "  <thead>\n",
       "    <tr style=\"text-align: right;\">\n",
       "      <th></th>\n",
       "      <th>date</th>\n",
       "      <th>username</th>\n",
       "      <th>like_count</th>\n",
       "      <th>retweet_count</th>\n",
       "      <th>processed_content</th>\n",
       "    </tr>\n",
       "  </thead>\n",
       "  <tbody>\n",
       "    <tr>\n",
       "      <th>0</th>\n",
       "      <td>2023-03-29</td>\n",
       "      <td>RealProfitPros</td>\n",
       "      <td>0.0</td>\n",
       "      <td>0.0</td>\n",
       "      <td>free ai marketing automation tools, strategies...</td>\n",
       "    </tr>\n",
       "    <tr>\n",
       "      <th>1</th>\n",
       "      <td>2023-03-29</td>\n",
       "      <td>AmyLouWho321</td>\n",
       "      <td>0.0</td>\n",
       "      <td>0.0</td>\n",
       "      <td>chat gpt says 15. :face_with_tears_of_joy:</td>\n",
       "    </tr>\n",
       "    <tr>\n",
       "      <th>2</th>\n",
       "      <td>2023-03-29</td>\n",
       "      <td>yjleon1976</td>\n",
       "      <td>0.0</td>\n",
       "      <td>0.0</td>\n",
       "      <td>- chat pdf! check new ai quickly answers quest...</td>\n",
       "    </tr>\n",
       "    <tr>\n",
       "      <th>3</th>\n",
       "      <td>2023-03-29</td>\n",
       "      <td>ChatGPT_Thinks</td>\n",
       "      <td>0.0</td>\n",
       "      <td>0.0</td>\n",
       "      <td>ai muses: \"in court life, face judge destiny j...</td>\n",
       "    </tr>\n",
       "    <tr>\n",
       "      <th>4</th>\n",
       "      <td>2023-03-29</td>\n",
       "      <td>cordydbarb</td>\n",
       "      <td>0.0</td>\n",
       "      <td>0.0</td>\n",
       "      <td>no! chat gpt putting amazing recipes :tired_fa...</td>\n",
       "    </tr>\n",
       "  </tbody>\n",
       "</table>\n",
       "</div>"
      ],
      "text/plain": [
       "         date        username  like_count  retweet_count   \n",
       "0  2023-03-29  RealProfitPros         0.0            0.0  \\\n",
       "1  2023-03-29    AmyLouWho321         0.0            0.0   \n",
       "2  2023-03-29      yjleon1976         0.0            0.0   \n",
       "3  2023-03-29  ChatGPT_Thinks         0.0            0.0   \n",
       "4  2023-03-29      cordydbarb         0.0            0.0   \n",
       "\n",
       "                                   processed_content  \n",
       "0  free ai marketing automation tools, strategies...  \n",
       "1         chat gpt says 15. :face_with_tears_of_joy:  \n",
       "2  - chat pdf! check new ai quickly answers quest...  \n",
       "3  ai muses: \"in court life, face judge destiny j...  \n",
       "4  no! chat gpt putting amazing recipes :tired_fa...  "
      ]
     },
     "execution_count": 2,
     "metadata": {},
     "output_type": "execute_result"
    }
   ],
   "source": [
    "df_cleaned = pd.read_csv(\"../Data/cleaded_data.csv\")\n",
    "df_cleaned.head()"
   ]
  },
  {
   "cell_type": "code",
   "execution_count": 3,
   "id": "7cc65882",
   "metadata": {},
   "outputs": [],
   "source": [
    "df_sorted = df_cleaned.sort_values(by='like_count', ascending=False)\n",
    "df_top_10000 = df_sorted.iloc[:10000]\n",
    "df_top_10000.reset_index(inplace=True, drop=True)"
   ]
  },
  {
   "cell_type": "markdown",
   "id": "df53ff3f",
   "metadata": {},
   "source": [
    "### Sentiment Analysis using Hugging Face"
   ]
  },
  {
   "cell_type": "code",
   "execution_count": 4,
   "id": "f6963908",
   "metadata": {},
   "outputs": [
    {
     "name": "stdout",
     "output_type": "stream",
     "text": [
      "1) positive 0.5896\n",
      "2) neutral 0.3751\n",
      "3) negative 0.0353\n"
     ]
    }
   ],
   "source": [
    "task='sentiment'\n",
    "MODEL = f\"cardiffnlp/twitter-roberta-base-{task}\"\n",
    "\n",
    "tokenizer = AutoTokenizer.from_pretrained(MODEL)\n",
    "\n",
    "# download label mapping\n",
    "labels=[]\n",
    "mapping_link = f\"https://raw.githubusercontent.com/cardiffnlp/tweeteval/main/datasets/{task}/mapping.txt\"\n",
    "with urllib.request.urlopen(mapping_link) as f:\n",
    "    html = f.read().decode('utf-8').split(\"\\n\")\n",
    "    csvreader = csv.reader(html, delimiter='\\t')\n",
    "labels = [row[1] for row in csvreader if len(row) > 1]\n",
    "\n",
    "# Pretrained\n",
    "model = AutoModelForSequenceClassification.from_pretrained(MODEL)\n",
    "\n",
    "\n",
    "text = \"Good night\"\n",
    "encoded_input = tokenizer(text, return_tensors='pt')\n",
    "output = model(**encoded_input)\n",
    "scores = output[0][0].detach().numpy()\n",
    "scores = softmax(scores)\n",
    "\n",
    "ranking = np.argsort(scores)\n",
    "ranking = ranking[::-1]\n",
    "for i in range(scores.shape[0]):\n",
    "    l = labels[ranking[i]]\n",
    "    s = scores[ranking[i]]\n",
    "    print(f\"{i+1}) {l} {np.round(float(s), 4)}\")\n"
   ]
  },
  {
   "cell_type": "code",
   "execution_count": null,
   "id": "101b1f1e",
   "metadata": {},
   "outputs": [],
   "source": []
  },
  {
   "cell_type": "markdown",
   "id": "bb1ae758",
   "metadata": {},
   "source": [
    "### Sentiment Analysis on Top 10,000 Tweets"
   ]
  },
  {
   "cell_type": "code",
   "execution_count": 7,
   "id": "7b4537d4",
   "metadata": {},
   "outputs": [
    {
     "name": "stdout",
     "output_type": "stream",
     "text": [
      "0 completed\n",
      "1000 completed\n",
      "2000 completed\n",
      "3000 completed\n",
      "4000 completed\n",
      "5000 completed\n",
      "6000 completed\n",
      "7000 completed\n",
      "8000 completed\n",
      "9000 completed\n"
     ]
    }
   ],
   "source": [
    "negative = []\n",
    "neutral  = []\n",
    "positive = []\n",
    "\n",
    "for i in range(len(df_top_10000)):\n",
    "    encoded_input = tokenizer(df_top_10000.processed_content[i], return_tensors='pt')\n",
    "    output = model(**encoded_input)\n",
    "    scores = output[0][0].detach().numpy()\n",
    "    scores = softmax(scores)\n",
    "    \n",
    "    negative.append(scores[0])\n",
    "    neutral.append(scores[1])\n",
    "    positive.append(scores[2])\n",
    "    \n",
    "    if i%1000 == 0:\n",
    "        print(str(i)+\" completed\")"
   ]
  },
  {
   "cell_type": "code",
   "execution_count": null,
   "id": "194ba6af",
   "metadata": {},
   "outputs": [],
   "source": []
  },
  {
   "cell_type": "code",
   "execution_count": 8,
   "id": "492e6fe8",
   "metadata": {},
   "outputs": [],
   "source": [
    "df_sentiment = df_top_10000.copy()\n",
    "\n",
    "df_sentiment['negative'] = negative\n",
    "df_sentiment['neutral'] = neutral\n",
    "df_sentiment['positive'] = positive"
   ]
  },
  {
   "cell_type": "code",
   "execution_count": 9,
   "id": "f80061fc",
   "metadata": {},
   "outputs": [
    {
     "data": {
      "text/html": [
       "<div>\n",
       "<style scoped>\n",
       "    .dataframe tbody tr th:only-of-type {\n",
       "        vertical-align: middle;\n",
       "    }\n",
       "\n",
       "    .dataframe tbody tr th {\n",
       "        vertical-align: top;\n",
       "    }\n",
       "\n",
       "    .dataframe thead th {\n",
       "        text-align: right;\n",
       "    }\n",
       "</style>\n",
       "<table border=\"1\" class=\"dataframe\">\n",
       "  <thead>\n",
       "    <tr style=\"text-align: right;\">\n",
       "      <th></th>\n",
       "      <th>date</th>\n",
       "      <th>username</th>\n",
       "      <th>like_count</th>\n",
       "      <th>retweet_count</th>\n",
       "      <th>processed_content</th>\n",
       "      <th>negative</th>\n",
       "      <th>neutral</th>\n",
       "      <th>positive</th>\n",
       "    </tr>\n",
       "  </thead>\n",
       "  <tbody>\n",
       "    <tr>\n",
       "      <th>0</th>\n",
       "      <td>2023-02-03</td>\n",
       "      <td>MoistCr1TiKaL</td>\n",
       "      <td>64094.0</td>\n",
       "      <td>2624.0</td>\n",
       "      <td>writing erotic prompts chat gpt hoping person ...</td>\n",
       "      <td>0.118656</td>\n",
       "      <td>0.819049</td>\n",
       "      <td>0.062295</td>\n",
       "    </tr>\n",
       "    <tr>\n",
       "      <th>1</th>\n",
       "      <td>2023-01-13</td>\n",
       "      <td>johnvianny</td>\n",
       "      <td>63835.0</td>\n",
       "      <td>16080.0</td>\n",
       "      <td>best ai tools need know chatgpt chatgpt3 artif...</td>\n",
       "      <td>0.045100</td>\n",
       "      <td>0.748205</td>\n",
       "      <td>0.206695</td>\n",
       "    </tr>\n",
       "    <tr>\n",
       "      <th>2</th>\n",
       "      <td>2023-03-06</td>\n",
       "      <td>rgay</td>\n",
       "      <td>44940.0</td>\n",
       "      <td>1349.0</td>\n",
       "      <td>pretty sure reading chat gpt student essay lik...</td>\n",
       "      <td>0.373744</td>\n",
       "      <td>0.549656</td>\n",
       "      <td>0.076601</td>\n",
       "    </tr>\n",
       "    <tr>\n",
       "      <th>3</th>\n",
       "      <td>2023-01-07</td>\n",
       "      <td>aaronsiim</td>\n",
       "      <td>42125.0</td>\n",
       "      <td>11501.0</td>\n",
       "      <td>ultra-modern generative ai:left_speech_bubble:...</td>\n",
       "      <td>0.031605</td>\n",
       "      <td>0.881386</td>\n",
       "      <td>0.087009</td>\n",
       "    </tr>\n",
       "    <tr>\n",
       "      <th>4</th>\n",
       "      <td>2023-01-12</td>\n",
       "      <td>kevinschawinski</td>\n",
       "      <td>38278.0</td>\n",
       "      <td>4160.0</td>\n",
       "      <td>chatgpt answer pause.</td>\n",
       "      <td>0.227726</td>\n",
       "      <td>0.693673</td>\n",
       "      <td>0.078601</td>\n",
       "    </tr>\n",
       "  </tbody>\n",
       "</table>\n",
       "</div>"
      ],
      "text/plain": [
       "         date         username  like_count  retweet_count   \n",
       "0  2023-02-03    MoistCr1TiKaL     64094.0         2624.0  \\\n",
       "1  2023-01-13       johnvianny     63835.0        16080.0   \n",
       "2  2023-03-06             rgay     44940.0         1349.0   \n",
       "3  2023-01-07        aaronsiim     42125.0        11501.0   \n",
       "4  2023-01-12  kevinschawinski     38278.0         4160.0   \n",
       "\n",
       "                                   processed_content  negative   neutral   \n",
       "0  writing erotic prompts chat gpt hoping person ...  0.118656  0.819049  \\\n",
       "1  best ai tools need know chatgpt chatgpt3 artif...  0.045100  0.748205   \n",
       "2  pretty sure reading chat gpt student essay lik...  0.373744  0.549656   \n",
       "3  ultra-modern generative ai:left_speech_bubble:...  0.031605  0.881386   \n",
       "4                              chatgpt answer pause.  0.227726  0.693673   \n",
       "\n",
       "   positive  \n",
       "0  0.062295  \n",
       "1  0.206695  \n",
       "2  0.076601  \n",
       "3  0.087009  \n",
       "4  0.078601  "
      ]
     },
     "execution_count": 9,
     "metadata": {},
     "output_type": "execute_result"
    }
   ],
   "source": [
    "df_sentiment.head()"
   ]
  },
  {
   "cell_type": "code",
   "execution_count": 10,
   "id": "87798072",
   "metadata": {},
   "outputs": [
    {
     "data": {
      "image/png": "[encoded data removed]",
      "text/plain": [
       "<Figure size 720x432 with 1 Axes>"
      ]
     },
     "metadata": {
      "needs_background": "light"
     },
     "output_type": "display_data"
    }
   ],
   "source": [
    "import matplotlib.pyplot as plt\n",
    "\n",
    "plt.figure(figsize=(10,6))\n",
    "n, bins, patches = plt.hist(x=df_sentiment['negative'], bins=20, color='red',\n",
    "                            alpha=0.7, rwidth=0.85)\n",
    "n, bins, patches = plt.hist(x=df_sentiment['neutral'], bins=20, color='gray',\n",
    "                            alpha=0.7, rwidth=0.85)\n",
    "n, bins, patches = plt.hist(x=df_sentiment['positive'], bins=20, color='green',\n",
    "                            alpha=0.7, rwidth=0.85)\n",
    "\n",
    "plt.xlabel('Sentiment')\n",
    "plt.ylabel('Frequency')\n",
    "plt.title('Top 10,000 Tweets')\n",
    "maxfreq = n.max()\n"
   ]
  },
  {
   "cell_type": "markdown",
   "id": "f600d97a",
   "metadata": {},
   "source": [
    "```diff\n",
    "- Red is negative<br>\n",
    "# Gray is neutral<br>\n",
    "+ Green is positive\n",
    "```"
   ]
  },
  {
   "cell_type": "markdown",
   "id": "da1e3c19",
   "metadata": {},
   "source": [
    "We can observe that majority of the tweets are neutral in emotion. <br>\n",
    "Negative emotion is overall very less. The frequency close to 0 is very high for negative sentiment<br>\n",
    "There's overall more positive emotion then negative "
   ]
  },
  {
   "cell_type": "code",
   "execution_count": null,
   "id": "c5e41167",
   "metadata": {},
   "outputs": [],
   "source": []
  },
  {
   "cell_type": "markdown",
   "id": "d0fab65a",
   "metadata": {},
   "source": [
    "### Sentiment Analysis on Topics created by LDA"
   ]
  },
  {
   "cell_type": "code",
   "execution_count": 11,
   "id": "fcf83c0b",
   "metadata": {},
   "outputs": [],
   "source": [
    "Topics_topwords = {\n",
    "    1 : ['chatgpt', 'asked', 'write', 'answer', 'question', 'ask', 'poem', 'love', 'style', 'explain', 'got', 'asking', 'gave', 'tell', 'friend'], \n",
    "    2 : ['chatgpt', 'student', 'use', 'better', 'bot', 'teacher', 'work', 'time', 'tool', 'btc', 'able', 'way', 'maybe', 'essay', 'help'], \n",
    "    3 : ['chatgpt', 'ai', 'google', 'model', 'new', 'openai', 'language', 'search', 'microsoft', 'tool', 'like', 'bing', 'chatbot', 'text', 'bard'], \n",
    "    4 : ['ai', 'chatgpt', 'technology', 'artificialintelligence', 'machinelearning', 'robot', 'tech', 'generativeai', 'python', 'openai', 'metaverse', 'innovation', 'art', 'tool', 'eye'], \n",
    "    5 : ['point', 'money', 'minute', 'skill', 'line', 'finally', 'challenge', 'productivity', 'play', 'error', 'sign', 'beginning', 'god', 'forward', 'funny'], \n",
    "    6 : ['chatgpt', 'ai', 'crypto', 'openai', 'rocket', 'token', 'know', 'blockchain', 'nft', 'launch', 'like', 'eth', 'robot', 'fire', 'today'], \n",
    "    7 : ['gpt', 'chat', 'like', 'people', 'know', 'thing', 'write', 'going', 'good', 'time', 'writing', 'tweet', 'actually', 'got', 'pretty'], \n",
    "    8 : ['chatgpt', 'bitcoin', 'plus', 'yet', 'buy', 'wan', 'cryptocurrency', 'yes', 'well', 'long', 'saying', 'testing', 'pay', 'article', 'crypto'], \n",
    "    9 : ['word', 'job', 'wrong', 'community', 'software', 'development', 'one', 'join', 'single', 'engineering', 'replaced', 'compared', 'engineer', 'safe', 'simply'], \n",
    "    10 : ['chatgpt', 'ai', 'think', 'human', 'intelligence', 'thought', 'future', 'paper', 'artificial', 'data', 'learning', 'world', 'user', 'new', 'said'], \n",
    "    11 : ['exam', 'extension', 'stuff', 'youtube', 'medical', 'personal', 'education', 'expert', 'chrome', 'edtech', 'clear', 'classroom', 'law', 'binance', 'explore'], \n",
    "    12 : ['chatgpt', 'prompt', 'use', 'code', 'free', 'app', 'link', 'fire', 'new', 'generate', 'content', 'build', 'video', 'case', 'api'], \n",
    "}"
   ]
  },
  {
   "cell_type": "code",
   "execution_count": 12,
   "id": "17c107ef",
   "metadata": {},
   "outputs": [],
   "source": [
    "def assign_topic(text):\n",
    "    \n",
    "    words = text.split(' ')\n",
    "    topic = 0\n",
    "    match = 0\n",
    "    for i in range(1,len(Topics_topwords)+1):\n",
    "        count = 0\n",
    "        for w in words:\n",
    "            if w in Topics_topwords[i]:\n",
    "                count+=1\n",
    "        if count/len(words)>match:\n",
    "            match = count/len(words)\n",
    "            topic = i\n",
    "    return topic, match"
   ]
  },
  {
   "cell_type": "code",
   "execution_count": 13,
   "id": "fb0736f0",
   "metadata": {},
   "outputs": [],
   "source": [
    "df_sentiment['Topic'] = 0\n",
    "df_sentiment['Match'] = 0\n",
    "for i in range(len(df_sentiment)):\n",
    "    df_sentiment['Topic'][i], df_sentiment['Match'][i] = assign_topic(df_sentiment['processed_content'][i])"
   ]
  },
  {
   "cell_type": "code",
   "execution_count": 14,
   "id": "9e19129d",
   "metadata": {},
   "outputs": [
    {
     "data": {
      "text/html": [
       "<div>\n",
       "<style scoped>\n",
       "    .dataframe tbody tr th:only-of-type {\n",
       "        vertical-align: middle;\n",
       "    }\n",
       "\n",
       "    .dataframe tbody tr th {\n",
       "        vertical-align: top;\n",
       "    }\n",
       "\n",
       "    .dataframe thead th {\n",
       "        text-align: right;\n",
       "    }\n",
       "</style>\n",
       "<table border=\"1\" class=\"dataframe\">\n",
       "  <thead>\n",
       "    <tr style=\"text-align: right;\">\n",
       "      <th></th>\n",
       "      <th>date</th>\n",
       "      <th>username</th>\n",
       "      <th>like_count</th>\n",
       "      <th>retweet_count</th>\n",
       "      <th>processed_content</th>\n",
       "      <th>negative</th>\n",
       "      <th>neutral</th>\n",
       "      <th>positive</th>\n",
       "      <th>Topic</th>\n",
       "      <th>Match</th>\n",
       "    </tr>\n",
       "  </thead>\n",
       "  <tbody>\n",
       "    <tr>\n",
       "      <th>0</th>\n",
       "      <td>2023-02-03</td>\n",
       "      <td>MoistCr1TiKaL</td>\n",
       "      <td>64094.0</td>\n",
       "      <td>2624.0</td>\n",
       "      <td>writing erotic prompts chat gpt hoping person ...</td>\n",
       "      <td>0.118656</td>\n",
       "      <td>0.819049</td>\n",
       "      <td>0.062295</td>\n",
       "      <td>7</td>\n",
       "      <td>0.333333</td>\n",
       "    </tr>\n",
       "    <tr>\n",
       "      <th>1</th>\n",
       "      <td>2023-01-13</td>\n",
       "      <td>johnvianny</td>\n",
       "      <td>63835.0</td>\n",
       "      <td>16080.0</td>\n",
       "      <td>best ai tools need know chatgpt chatgpt3 artif...</td>\n",
       "      <td>0.045100</td>\n",
       "      <td>0.748205</td>\n",
       "      <td>0.206695</td>\n",
       "      <td>4</td>\n",
       "      <td>0.444444</td>\n",
       "    </tr>\n",
       "    <tr>\n",
       "      <th>2</th>\n",
       "      <td>2023-03-06</td>\n",
       "      <td>rgay</td>\n",
       "      <td>44940.0</td>\n",
       "      <td>1349.0</td>\n",
       "      <td>pretty sure reading chat gpt student essay lik...</td>\n",
       "      <td>0.373744</td>\n",
       "      <td>0.549656</td>\n",
       "      <td>0.076601</td>\n",
       "      <td>7</td>\n",
       "      <td>0.333333</td>\n",
       "    </tr>\n",
       "    <tr>\n",
       "      <th>3</th>\n",
       "      <td>2023-01-07</td>\n",
       "      <td>aaronsiim</td>\n",
       "      <td>42125.0</td>\n",
       "      <td>11501.0</td>\n",
       "      <td>ultra-modern generative ai:left_speech_bubble:...</td>\n",
       "      <td>0.031605</td>\n",
       "      <td>0.881386</td>\n",
       "      <td>0.087009</td>\n",
       "      <td>1</td>\n",
       "      <td>0.020833</td>\n",
       "    </tr>\n",
       "    <tr>\n",
       "      <th>4</th>\n",
       "      <td>2023-01-12</td>\n",
       "      <td>kevinschawinski</td>\n",
       "      <td>38278.0</td>\n",
       "      <td>4160.0</td>\n",
       "      <td>chatgpt answer pause.</td>\n",
       "      <td>0.227726</td>\n",
       "      <td>0.693673</td>\n",
       "      <td>0.078601</td>\n",
       "      <td>1</td>\n",
       "      <td>0.666667</td>\n",
       "    </tr>\n",
       "  </tbody>\n",
       "</table>\n",
       "</div>"
      ],
      "text/plain": [
       "         date         username  like_count  retweet_count   \n",
       "0  2023-02-03    MoistCr1TiKaL     64094.0         2624.0  \\\n",
       "1  2023-01-13       johnvianny     63835.0        16080.0   \n",
       "2  2023-03-06             rgay     44940.0         1349.0   \n",
       "3  2023-01-07        aaronsiim     42125.0        11501.0   \n",
       "4  2023-01-12  kevinschawinski     38278.0         4160.0   \n",
       "\n",
       "                                   processed_content  negative   neutral   \n",
       "0  writing erotic prompts chat gpt hoping person ...  0.118656  0.819049  \\\n",
       "1  best ai tools need know chatgpt chatgpt3 artif...  0.045100  0.748205   \n",
       "2  pretty sure reading chat gpt student essay lik...  0.373744  0.549656   \n",
       "3  ultra-modern generative ai:left_speech_bubble:...  0.031605  0.881386   \n",
       "4                              chatgpt answer pause.  0.227726  0.693673   \n",
       "\n",
       "   positive  Topic     Match  \n",
       "0  0.062295      7  0.333333  \n",
       "1  0.206695      4  0.444444  \n",
       "2  0.076601      7  0.333333  \n",
       "3  0.087009      1  0.020833  \n",
       "4  0.078601      1  0.666667  "
      ]
     },
     "execution_count": 14,
     "metadata": {},
     "output_type": "execute_result"
    }
   ],
   "source": [
    "df_sentiment.head()"
   ]
  },
  {
   "cell_type": "code",
   "execution_count": 15,
   "id": "fa8fb2b2",
   "metadata": {
    "scrolled": false
   },
   "outputs": [
    {
     "data": {
      "image/png": "[encoded data removed]",
      "text/plain": [
       "<Figure size 432x288 with 1 Axes>"
      ]
     },
     "metadata": {
      "needs_background": "light"
     },
     "output_type": "display_data"
    },
    {
     "data": {
      "image/png": "[encoded data removed]",
      "text/plain": [
       "<Figure size 432x288 with 1 Axes>"
      ]
     },
     "metadata": {
      "needs_background": "light"
     },
     "output_type": "display_data"
    },
    {
     "data": {
      "image/png": "[encoded data removed]",
      "text/plain": [
       "<Figure size 432x288 with 1 Axes>"
      ]
     },
     "metadata": {
      "needs_background": "light"
     },
     "output_type": "display_data"
    },
    {
     "data": {
      "image/png": "[encoded data removed]",
      "text/plain": [
       "<Figure size 432x288 with 1 Axes>"
      ]
     },
     "metadata": {
      "needs_background": "light"
     },
     "output_type": "display_data"
    },
    {
     "data": {
      "image/png": "[encoded data removed]",
      "text/plain": [
       "<Figure size 432x288 with 1 Axes>"
      ]
     },
     "metadata": {
      "needs_background": "light"
     },
     "output_type": "display_data"
    },
    {
     "data": {
      "image/png": "[encoded data removed]",
      "text/plain": [
       "<Figure size 432x288 with 1 Axes>"
      ]
     },
     "metadata": {
      "needs_background": "light"
     },
     "output_type": "display_data"
    },
    {
     "data": {
      "image/png": "[encoded data removed]",
      "text/plain": [
       "<Figure size 432x288 with 1 Axes>"
      ]
     },
     "metadata": {
      "needs_background": "light"
     },
     "output_type": "display_data"
    },
    {
     "data": {
      "image/png": "[encoded data removed]",
      "text/plain": [
       "<Figure size 432x288 with 1 Axes>"
      ]
     },
     "metadata": {
      "needs_background": "light"
     },
     "output_type": "display_data"
    },
    {
     "data": {
      "image/png": "[encoded data removed]",
      "text/plain": [
       "<Figure size 432x288 with 1 Axes>"
      ]
     },
     "metadata": {
      "needs_background": "light"
     },
     "output_type": "display_data"
    },
    {
     "data": {
      "image/png": "[encoded data removed]",
      "text/plain": [
       "<Figure size 432x288 with 1 Axes>"
      ]
     },
     "metadata": {
      "needs_background": "light"
     },
     "output_type": "display_data"
    },
    {
     "data": {
      "image/png": "[encoded data removed]",
      "text/plain": [
       "<Figure size 432x288 with 1 Axes>"
      ]
     },
     "metadata": {
      "needs_background": "light"
     },
     "output_type": "display_data"
    },
    {
     "data": {
      "image/png": "[encoded data removed]",
      "text/plain": [
       "<Figure size 432x288 with 1 Axes>"
      ]
     },
     "metadata": {
      "needs_background": "light"
     },
     "output_type": "display_data"
    }
   ],
   "source": [
    "for t in range(1, len(Topics_topwords)+1):\n",
    "    df_topic = df_sentiment[df_sentiment['Topic']==t] \n",
    "    # An \"interface\" to matplotlib.axes.Axes.hist() method\n",
    "    n, bins, patches = plt.hist(x=df_topic['negative'], bins=20, color='red',\n",
    "                                alpha=0.7, rwidth=0.85)\n",
    "    n, bins, patches = plt.hist(x=df_topic['neutral'], bins=20, color='gray',\n",
    "                                alpha=0.7, rwidth=0.85)\n",
    "    n, bins, patches = plt.hist(x=df_topic['positive'], bins=20, color='green',\n",
    "                                alpha=0.7, rwidth=0.85)\n",
    "\n",
    "    plt.xlabel('Sentiment')\n",
    "    plt.ylabel('Frequency')\n",
    "    plt.title('Topic '+ str(t))\n",
    "    maxfreq = n.max()\n",
    "    plt.show()"
   ]
  },
  {
   "cell_type": "markdown",
   "id": "d9d558da",
   "metadata": {},
   "source": [
    "We can observe that most topics are mostly neutral but some of them have more positive or negative sentiments compared to the complete distribution."
   ]
  },
  {
   "cell_type": "code",
   "execution_count": 16,
   "id": "6b99eff4",
   "metadata": {},
   "outputs": [
    {
     "data": {
      "text/plain": [
       "Topic\n",
       "7     2413\n",
       "1     2245\n",
       "3     2113\n",
       "2      800\n",
       "4      615\n",
       "6      538\n",
       "10     519\n",
       "12     403\n",
       "0      155\n",
       "8      110\n",
       "5       30\n",
       "9       30\n",
       "11      29\n",
       "Name: count, dtype: int64"
      ]
     },
     "execution_count": 16,
     "metadata": {},
     "output_type": "execute_result"
    }
   ],
   "source": [
    "df_sentiment.Topic.value_counts()"
   ]
  },
  {
   "cell_type": "code",
   "execution_count": null,
   "id": "d610d84d",
   "metadata": {},
   "outputs": [],
   "source": []
  },
  {
   "cell_type": "markdown",
   "id": "830ec119",
   "metadata": {},
   "source": [
    "### Specific Topics and their overall sentiment"
   ]
  },
  {
   "cell_type": "code",
   "execution_count": 17,
   "id": "a9cf669b",
   "metadata": {},
   "outputs": [],
   "source": [
    "topics = ['ai', 'chatgpt', 'elonmusk', 'coding', 'google', 'exam', 'hate', 'love',\n",
    "          'microsoft' ,'youtube', 'billgates', 'linkedin', 'resume', 'tesla']\n",
    "\n",
    "df_sentiment['Topic_specific'] = \"\"\n",
    "for topic in topics:\n",
    "    df_sentiment.loc[df_sentiment['processed_content'].str.contains(topic), 'Topic_specific'] = topic\n",
    "\n",
    "\n",
    "data = []\n",
    "for topic in topics:\n",
    "    topic_rows = df_sentiment[df_sentiment['Topic_specific'] == topic]\n",
    "    \n",
    "    # Average sentiment per topic\n",
    "    negative = topic_rows['negative'].sum() / topic_rows.shape[0]\n",
    "    neutral = topic_rows['neutral'].sum() / topic_rows.shape[0]\n",
    "    positive = topic_rows['positive'].sum() / topic_rows.shape[0]\n",
    "    \n",
    "    sentiment = -negative + positive\n",
    " \n",
    "    data.append({'Topic_specific': topic, 'negative': negative,'neutral': neutral, 'positive': positive, 'sentiment':sentiment})\n",
    "\n",
    "df_sentiment_new = pd.DataFrame(data)"
   ]
  },
  {
   "cell_type": "code",
   "execution_count": 18,
   "id": "b763adb3",
   "metadata": {},
   "outputs": [
    {
     "data": {
      "image/png": "[encoded data removed]",
      "text/plain": [
       "<Figure size 864x504 with 1 Axes>"
      ]
     },
     "metadata": {
      "needs_background": "light"
     },
     "output_type": "display_data"
    }
   ],
   "source": [
    "plt.figure(figsize=(12, 7))\n",
    "sns.barplot(data=df_sentiment_new, x='Topic_specific', y='sentiment')#, palette=['#1DA1F2'])\n",
    "plt.title('Comparative sentimental analysis by topic')\n",
    "plt.xlabel('Topic')\n",
    "plt.ylabel('Sentiment')\n",
    "plt.show()"
   ]
  },
  {
   "cell_type": "code",
   "execution_count": null,
   "id": "06e6ab5c",
   "metadata": {},
   "outputs": [],
   "source": []
  }
 ],
 "metadata": {
  "kernelspec": {
   "display_name": "Python 3 (ipykernel)",
   "language": "python",
   "name": "python3"
  },
  "language_info": {
   "codemirror_mode": {
    "name": "ipython",
    "version": 3
   },
   "file_extension": ".py",
   "mimetype": "text/x-python",
   "name": "python",
   "nbconvert_exporter": "python",
   "pygments_lexer": "ipython3",
   "version": "3.9.12"
  }
 },
 "nbformat": 4,
 "nbformat_minor": 5
}
